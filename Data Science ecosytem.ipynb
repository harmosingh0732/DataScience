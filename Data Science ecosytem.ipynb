{
 "cells": [
  {
   "cell_type": "markdown",
   "id": "6082970c-11a1-4e69-b594-e780df0ae170",
   "metadata": {},
   "source": [
    "# DataScienceToolsand ecosytem   "
   ]
  },
  {
   "cell_type": "code",
   "execution_count": null,
   "id": "67104912-1c10-4132-bd08-d157ef546eb0",
   "metadata": {},
   "outputs": [],
   "source": []
  },
  {
   "cell_type": "markdown",
   "id": "1c9382b7-2edb-43d5-8c19-ef6e03dd50b3",
   "metadata": {},
   "source": [
    "In this notebook, Data Science tools and Ecosystem are Summarized"
   ]
  },
  {
   "cell_type": "markdown",
   "id": "2f6ecb8b-6ecc-4945-ad4e-16f23192d1d5",
   "metadata": {},
   "source": [
    "Some of the Data Science Languages are:\n",
    "\n",
    "1. Pyhton\n",
    "\n",
    "2. R\n",
    "\n",
    "3. SQL"
   ]
  },
  {
   "cell_type": "markdown",
   "id": "aba96111-b73f-42bc-89d6-2cae206a93a7",
   "metadata": {},
   "source": [
    "Some of the commonly used Libraries by Data scientists are:\n",
    "\n",
    "1. Matplotlib\n",
    "\n",
    "2. Sci_kitLearn\n",
    "\n",
    "3. GGplot"
   ]
  },
  {
   "cell_type": "markdown",
   "id": "d6f07ae9-f3cf-4125-81da-97e6a292705a",
   "metadata": {},
   "source": [
    "|Data Science Tools|\n",
    "|------------------|\n",
    "|Jupyter Notebook|\n",
    "|R Studio|\n",
    "|VS Code|\n",
    "\n"
   ]
  },
  {
   "cell_type": "markdown",
   "id": "1c54a71b-fab7-4314-b52c-a8a733095112",
   "metadata": {},
   "source": [
    "### Below are the few examples of Evaluating Arithemetic Experssions in Python"
   ]
  },
  {
   "cell_type": "code",
   "execution_count": 4,
   "id": "bd839972-b954-463b-a1b4-443430470b1c",
   "metadata": {},
   "outputs": [
    {
     "data": {
      "text/plain": [
       "17"
      ]
     },
     "execution_count": 4,
     "metadata": {},
     "output_type": "execute_result"
    }
   ],
   "source": [
    "#This a simple arithmetic expression to mutiply then add integers.\n",
    "(3*4)+5"
   ]
  },
  {
   "cell_type": "code",
   "execution_count": 6,
   "id": "605ea4cc-1fb0-4966-8082-aa1998408b4b",
   "metadata": {},
   "outputs": [
    {
     "data": {
      "text/plain": [
       "3.3333333333333335"
      ]
     },
     "execution_count": 6,
     "metadata": {},
     "output_type": "execute_result"
    }
   ],
   "source": [
    "#This will convert 200 minutes to hours by diving by 60\n",
    "(200)/60"
   ]
  },
  {
   "cell_type": "markdown",
   "id": "d23a6839-481b-4e20-ab5a-28dffced8e8a",
   "metadata": {},
   "source": [
    "__Objectives__"
   ]
  },
  {
   "cell_type": "markdown",
   "id": "4c90752c-e766-4fc4-a42a-c99b57d61d0f",
   "metadata": {},
   "source": [
    "List popular languages for Data Science \n",
    "\n",
    "+ Python\n",
    "+ R\n",
    "+ SQL\n",
    "+ Scala\n",
    "+ Julia"
   ]
  },
  {
   "cell_type": "markdown",
   "id": "3746ee02-bd7a-4a46-8f42-c4d3d7ca20e9",
   "metadata": {},
   "source": [
    " ## Author\n",
    " Harmohit Singh"
   ]
  },
  {
   "cell_type": "code",
   "execution_count": null,
   "id": "f1843aa5-e308-4c6b-a3b2-1290de2d66f8",
   "metadata": {},
   "outputs": [],
   "source": []
  }
 ],
 "metadata": {
  "kernelspec": {
   "display_name": "Python [conda env:env__]",
   "language": "python",
   "name": "conda-env-env__-py"
  },
  "language_info": {
   "codemirror_mode": {
    "name": "ipython",
    "version": 3
   },
   "file_extension": ".py",
   "mimetype": "text/x-python",
   "name": "python",
   "nbconvert_exporter": "python",
   "pygments_lexer": "ipython3",
   "version": "3.12.9"
  }
 },
 "nbformat": 4,
 "nbformat_minor": 5
}
